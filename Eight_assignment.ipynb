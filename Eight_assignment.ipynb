{
 "cells": [
  {
   "cell_type": "code",
   "execution_count": 1,
   "id": "75a1288a",
   "metadata": {},
   "outputs": [],
   "source": [
    "import pandas as pd\n",
    "\n",
    "with open('/Users/wcl/Downloads/qje.txt', 'r', encoding='utf-8') as file:\n",
    "    lines = file.readlines()\n",
    "\n",
    "paper_info = []\n",
    "author_info = []\n",
    "reference_info = []\n",
    "\n",
    "for line in lines:\n",
    "    fields = line.strip().split('\\t')\n",
    "    if len(fields) > 1:\n",
    "        if fields[0] == 'PT':\n",
    "            paper_info.append(fields[1:])\n",
    "        elif fields[0] == 'AU':\n",
    "            author_info.append(fields[1:])\n",
    "        elif fields[0] == 'CR':\n",
    "            reference_info.append(fields[1:])\n",
    "\n",
    "paper_df = pd.DataFrame(paper_info, columns=['PT', 'AU', 'AF', 'TI', 'SO', 'AB', 'PY', 'VL', 'IS', 'BP', 'EP', 'DI', 'UT'])\n",
    "author_df = pd.DataFrame(author_info, columns=['AU', 'AF', 'C1', 'RP', 'EM', 'RI', 'OI'])\n",
    "reference_df = pd.DataFrame(reference_info, columns=['CR'])\n",
    "\n",
    "paper_df.to_csv('/Users/wcl/Downloads/paper_info.csv', index=False)\n",
    "author_df.to_csv('/Users/wcl/Downloads/author_info.csv', index=False)\n",
    "reference_df.to_csv('/Users/wcl/Downloads/reference_info.csv', index=False）"
   ]
  },
  {
   "cell_type": "code",
   "execution_count": null,
   "id": "3503c125",
   "metadata": {},
   "outputs": [],
   "source": []
  }
 ],
 "metadata": {
  "kernelspec": {
   "display_name": "Python 3 (ipykernel)",
   "language": "python",
   "name": "python3"
  },
  "language_info": {
   "codemirror_mode": {
    "name": "ipython",
    "version": 3
   },
   "file_extension": ".py",
   "mimetype": "text/x-python",
   "name": "python",
   "nbconvert_exporter": "python",
   "pygments_lexer": "ipython3",
   "version": "3.11.5"
  }
 },
 "nbformat": 4,
 "nbformat_minor": 5
}
